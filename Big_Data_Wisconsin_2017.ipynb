{
 "cells": [
  {
   "cell_type": "code",
   "execution_count": 5,
   "metadata": {
    "collapsed": true,
    "slideshow": {
     "slide_type": "skip"
    }
   },
   "outputs": [],
   "source": [
    "from IPython.display import HTML "
   ]
  },
  {
   "cell_type": "markdown",
   "metadata": {
    "slideshow": {
     "slide_type": "skip"
    }
   },
   "source": [
    "<h1><center>Big Data Wisconsin</center></h1><br><h2><center>Samuel Hamilton</center></h2>\n",
    "<span style=\"color:blue\">some *blue* text</span>.\n",
    "\n",
    "# Turning Data into a Publication\n",
    "<img src=\"Images/Top_Quark.png\" style=\"margin: auto;\" height=\"500\" width=\"500\">\n",
    "\n",
    "make a joke about measuring organic social traffic to website."
   ]
  },
  {
   "cell_type": "markdown",
   "metadata": {
    "slideshow": {
     "slide_type": "slide"
    }
   },
   "source": [
    "<div id=\"container\">\n",
    "    <div id=\"floated-imgs\" style=\"float:right;justify-content:center;\">\n",
    "        <img src=\"Images/Kohls_Logo.png\" height=\"400\" width=\"400\">\n",
    "        <!--<img src=\"Images/big_data_wisconsin_logo-1.png\" height=\"250\" width=\"250\">*/-->\n",
    "    </div>\n",
    "    <h1>Big Data on a Budget</h1><br>\n",
    "    Samuel Hamilton, Ph.D<br>\n",
    "    Kohl's - Menomonee Falls, WI<br>\n",
    "    Big Data Wisconsin 2017<br>\n",
    "</div>\n"
   ]
  },
  {
   "cell_type": "markdown",
   "metadata": {
    "slideshow": {
     "slide_type": "skip"
    }
   },
   "source": [
    " <img src=\"Images/Marketing_Analytics.png\" style=\"float:right;justify-content:center;\" height=\"200\" width=\"200\">\n",
    " # Marketing Analytics at Kohl's"
   ]
  },
  {
   "cell_type": "markdown",
   "metadata": {
    "slideshow": {
     "slide_type": "slide"
    }
   },
   "source": [
    "# Marketing Decision Sciences and Customer Analytics"
   ]
  },
  {
   "cell_type": "markdown",
   "metadata": {
    "slideshow": {
     "slide_type": "fragment"
    }
   },
   "source": [
    "* End to End Marketing\n",
    "   * Direct Mail, Email, Digital Display, Search, Affiliate..."
   ]
  },
  {
   "cell_type": "markdown",
   "metadata": {
    "slideshow": {
     "slide_type": "fragment"
    }
   },
   "source": [
    "* Customer Analytics\n",
    "    * Customer Life Cycle and Segmentation, LTV, Propensity Models..."
   ]
  },
  {
   "cell_type": "markdown",
   "metadata": {
    "slideshow": {
     "slide_type": "fragment"
    }
   },
   "source": [
    "* Marketing Execution Framework and Architecture\n",
    "    * Customer Data Build, Analytics and Model Execution, Data Flow Management..."
   ]
  },
  {
   "cell_type": "markdown",
   "metadata": {
    "slideshow": {
     "slide_type": "skip"
    }
   },
   "source": [
    "<img src=\"Images/MacGyver_Socket.jpg\" height=\"250\" width=\"250\">"
   ]
  },
  {
   "cell_type": "markdown",
   "metadata": {
    "slideshow": {
     "slide_type": "skip"
    }
   },
   "source": [
    "<img style=\"float: right;\" src=\"Images/MacGyver_Socket.jpg\" height=\"250\" width=\"250\">\n",
    "Disclaimer:  Implement proposed solutions at your own risk!"
   ]
  },
  {
   "cell_type": "markdown",
   "metadata": {
    "slideshow": {
     "slide_type": "slide"
    }
   },
   "source": [
    "# My Experience with Big Data"
   ]
  },
  {
   "cell_type": "markdown",
   "metadata": {
    "slideshow": {
     "slide_type": "fragment"
    }
   },
   "source": [
    "* ATLAS experiment at the Large Hadron Collider at CERN (~6 years)"
   ]
  },
  {
   "cell_type": "markdown",
   "metadata": {
    "slideshow": {
     "slide_type": "fragment"
    }
   },
   "source": [
    "* Data Scientist at Johnson Controls (~2 years)"
   ]
  },
  {
   "cell_type": "markdown",
   "metadata": {
    "slideshow": {
     "slide_type": "fragment"
    }
   },
   "source": [
    "* Manager, Big Data Customer Insights at Kohl's (~2 years)"
   ]
  },
  {
   "cell_type": "markdown",
   "metadata": {
    "slideshow": {
     "slide_type": "slide"
    }
   },
   "source": [
    "# Big Data from a Scientific Vantage Point\n",
    "<img src=\"Images/Science_Tyson.jpg\" height=\"500\" width=\"500\">"
   ]
  },
  {
   "cell_type": "markdown",
   "metadata": {
    "slideshow": {
     "slide_type": "subslide"
    }
   },
   "source": [
    "# Evolution of Big Data at CERN"
   ]
  },
  {
   "cell_type": "code",
   "execution_count": 16,
   "metadata": {
    "slideshow": {
     "slide_type": "fragment"
    }
   },
   "outputs": [
    {
     "data": {
      "text/html": [
       "<iframe width=\"560\" height=\"315\" src=\"https://www.youtube.com/embed/j-0cUmUyb-Y?rel=0&amp;controls=0&amp;showinfo=0\" frameborder=\"0\" allowfullscreen></iframe>"
      ],
      "text/plain": [
       "<IPython.core.display.HTML object>"
      ]
     },
     "execution_count": 16,
     "metadata": {},
     "output_type": "execute_result"
    }
   ],
   "source": [
    "HTML('<iframe width=\"560\" height=\"315\" src=\"https://www.youtube.com/embed/j-0cUmUyb-Y?rel=0&amp;controls=0&amp;showinfo=0\" frameborder=\"0\" allowfullscreen></iframe>')\n"
   ]
  },
  {
   "cell_type": "markdown",
   "metadata": {
    "slideshow": {
     "slide_type": "subslide"
    }
   },
   "source": [
    "# From Particle Collisions to Data Analysis"
   ]
  },
  {
   "cell_type": "code",
   "execution_count": 18,
   "metadata": {
    "slideshow": {
     "slide_type": "fragment"
    }
   },
   "outputs": [
    {
     "data": {
      "text/html": [
       "<iframe width=\"640\" height=\"360\" frameborder=\"0\" src=\"http://cds.cern.ch/video/CERN-MOVIE-2013-041-001\" allowfullscreen></iframe>"
      ],
      "text/plain": [
       "<IPython.core.display.HTML object>"
      ]
     },
     "execution_count": 18,
     "metadata": {},
     "output_type": "execute_result"
    }
   ],
   "source": [
    "HTML('<iframe width=\"640\" height=\"360\" frameborder=\"0\" src=\"http://cds.cern.ch/video/CERN-MOVIE-2013-041-001\" allowfullscreen></iframe>')"
   ]
  },
  {
   "cell_type": "markdown",
   "metadata": {
    "slideshow": {
     "slide_type": "subslide"
    }
   },
   "source": [
    "# World Wide LHC Computing Grid\n",
    "<img src=\"Images/LHC_Tiers.png\" height=\"500\" width=\"500\">"
   ]
  },
  {
   "cell_type": "markdown",
   "metadata": {
    "slideshow": {
     "slide_type": "subslide"
    }
   },
   "source": [
    "# Turning Data into a Publication\n",
    "<img src=\"Images/Top_Quark.png\" height=\"500\" width=\"500\">"
   ]
  },
  {
   "cell_type": "markdown",
   "metadata": {
    "slideshow": {
     "slide_type": "slide"
    }
   },
   "source": [
    "# Big Data from a Corporate Perspective\n",
    "<img src=\"Images/Corp_Steve.jpg\" height=\"400\" width=\"400\">"
   ]
  },
  {
   "cell_type": "markdown",
   "metadata": {
    "slideshow": {
     "slide_type": "subslide"
    }
   },
   "source": [
    "# The Enterprise Data Lake"
   ]
  },
  {
   "cell_type": "markdown",
   "metadata": {
    "slideshow": {
     "slide_type": "fragment"
    }
   },
   "source": [
    "<p style=\"text-align:center\">\n",
    "  What it should look like (if business units were animals)...\n",
    "</p>\n",
    "<img src=\"Images/Data_Lake_Animals.jpg\" style=\"margin: auto;\" height=\"400\" width=\"400\">"
   ]
  },
  {
   "cell_type": "markdown",
   "metadata": {
    "slideshow": {
     "slide_type": "subslide"
    }
   },
   "source": [
    "# Which can make you feel like ..."
   ]
  },
  {
   "cell_type": "markdown",
   "metadata": {
    "slideshow": {
     "slide_type": "fragment"
    }
   },
   "source": [
    "<img src=\"Images/Data_Lake_Cruise.jpeg\" style=\"margin: auto;\" height=\"400\" width=\"400\">"
   ]
  },
  {
   "cell_type": "markdown",
   "metadata": {
    "slideshow": {
     "slide_type": "subslide"
    }
   },
   "source": [
    "# However, it can sometimes feel like ..."
   ]
  },
  {
   "cell_type": "markdown",
   "metadata": {
    "slideshow": {
     "slide_type": "fragment"
    }
   },
   "source": [
    "<img src=\"Images/Data_Lake_Meme.jpg\" style=\"margin: auto;\" height=\"500\" width=\"500\">"
   ]
  },
  {
   "cell_type": "markdown",
   "metadata": {
    "slideshow": {
     "slide_type": "subslide"
    }
   },
   "source": [
    "# Traditional Data Lake Architecture\n",
    "<img src=\"Images/Data_Lake_Traditional.png\" height=\"500\" width=\"500\">"
   ]
  },
  {
   "cell_type": "markdown",
   "metadata": {
    "slideshow": {
     "slide_type": "subslide"
    }
   },
   "source": [
    "# So there are some problems in implementing a Data Lake...\n",
    "<img src=\"Images/Brave_Heart.jpg\" style=\"margin: auto;\" height=\"500\" width=\"500\">\n"
   ]
  },
  {
   "cell_type": "markdown",
   "metadata": {
    "slideshow": {
     "slide_type": "slide"
    }
   },
   "source": [
    "# Virtual Data Lake Proposal (MacGyvering a Solution)"
   ]
  },
  {
   "cell_type": "markdown",
   "metadata": {
    "slideshow": {
     "slide_type": "fragment"
    }
   },
   "source": [
    "<p style=\"text-align:center\">\n",
    "  <span style=\"background-color: #FFFF00\">Caution, use this advice carefuly!</span><br>\n",
    "</p>\n",
    "<img src=\"Images/MacGyver_Socket.jpg\" style=\"margin: auto;\" height=\"350\" width=\"350\">\n",
    "\n",
    "<p style=\"text-align:center\">\n",
    "    <small>Disclaimer: I am not an architect, just a data scientist who has figured out a few tricks to wrangle in data</small>\n",
    "</p>"
   ]
  },
  {
   "cell_type": "markdown",
   "metadata": {
    "slideshow": {
     "slide_type": "subslide"
    }
   },
   "source": [
    "<img src=\"Images/Virtual_Data_Lake.png\" style=\"margin: auto;\" height=\"500\" width=\"500\">"
   ]
  },
  {
   "cell_type": "markdown",
   "metadata": {
    "slideshow": {
     "slide_type": "slide"
    }
   },
   "source": [
    "# Live Demo:  Virtual Data Lake Concepts"
   ]
  },
  {
   "cell_type": "markdown",
   "metadata": {
    "slideshow": {
     "slide_type": "slide"
    }
   },
   "source": [
    "<div id=\"container\">\n",
    "    <div id=\"floated-imgs\" style=\"float:right;justify-content:center;\">\n",
    "        <img src=\"Images/Kohls_Logo.png\" height=\"400\" width=\"400\">\n",
    "        <!--<img src=\"Images/big_data_wisconsin_logo-1.png\" height=\"250\" width=\"250\">*/-->\n",
    "    </div>\n",
    "    <div id=\"floated-imgs\" style=\"float:left;justify-content:center;\">\n",
    "    <br style=\"height: .5em;\" /><h1>Thank You!</h1>\n",
    "    </div>\n",
    "</div>"
   ]
  }
 ],
 "metadata": {
  "celltoolbar": "Slideshow",
  "kernelspec": {
   "display_name": "Python 2",
   "language": "python",
   "name": "python2"
  },
  "language_info": {
   "codemirror_mode": {
    "name": "ipython",
    "version": 2
   },
   "file_extension": ".py",
   "mimetype": "text/x-python",
   "name": "python",
   "nbconvert_exporter": "python",
   "pygments_lexer": "ipython2",
   "version": "2.7.13"
  }
 },
 "nbformat": 4,
 "nbformat_minor": 2
}
